{
 "cells": [
  {
   "cell_type": "code",
   "execution_count": 1,
   "id": "dietary-nature",
   "metadata": {},
   "outputs": [],
   "source": [
    "import pandas as pd\n",
    "import numpy as np\n",
    "import os\n",
    "import matplotlib as mpl\n",
    "import matplotlib.pyplot as plt\n",
    "import seaborn as sns\n",
    "from pyensembl import Genome\n",
    "from tqdm.notebook import tqdm\n",
    "from statsmodels.stats.multitest import multipletests\n",
    "%matplotlib inline"
   ]
  },
  {
   "cell_type": "code",
   "execution_count": 2,
   "id": "genetic-palace",
   "metadata": {},
   "outputs": [],
   "source": [
    "genome = Genome(reference_name='GRCh38',\n",
    "                annotation_name='my_genome_features',\n",
    "                gtf_path_or_url='/data03/christopher/annotations/Homo_sapiens.GRCh38.91.chr_patch_hapl_scaff.gtf',\n",
    "                transcript_fasta_paths_or_urls='/data03/christopher/annotations/Homo_sapiens.GRCh38.cdna.ncrna.fa')\n",
    "chrsm_annot_dir = \"/data03/christopher/annotations/chrsm_annot.txt\"\n",
    "chr_map = {}\n",
    "with open(chrsm_annot_dir) as f:\n",
    "    for line in f:\n",
    "        ensembl, ucsc = line.strip(\"\\n\").split(\"\\t\")\n",
    "        chr_map[ensembl] = ucsc\n",
    "        \n",
    "m6ace = pd.read_table(\"/data03/christopher/annotations/m6ACE_HCT116.txt\", header=None)\n",
    "m6ace = m6ace.rename({0: 'chr', 2: 'genomic_position'}, axis=1)\n",
    "m6ace[\"m6ace_modification_status\"] = np.ones(len(m6ace))\n",
    "\n",
    "inference = pd.read_csv(\"/home/christopher/inference_combined.csv\")"
   ]
  },
  {
   "cell_type": "code",
   "execution_count": 19,
   "id": "rational-letter",
   "metadata": {},
   "outputs": [],
   "source": [
    "def create_tx_ref(transcript_ids):\n",
    "    transcript_lengths = []\n",
    "    for tx_id in tqdm(transcript_ids):\n",
    "        try:\n",
    "            tx = genome.transcript_by_id(tx_id)\n",
    "        except Exception:\n",
    "            continue\n",
    "        end_tx = len(tx.sequence)\n",
    "        if tx.contains_start_codon and tx.contains_stop_codon:\n",
    "            end_5utr = len(tx.five_prime_utr_sequence)\n",
    "            end_cds = tx.last_stop_codon_spliced_offset\n",
    "            if end_tx > end_cds > end_5utr > 0:\n",
    "                transcript_lengths += [(tx_id,end_5utr,end_cds,end_tx)]\n",
    "    return pd.DataFrame(transcript_lengths,columns = ['transcript_id','end_5utr','end_cds','end_tx'])\n",
    "\n",
    "def plot_rel_positions(ax,df,df_transcript_lengths, label):\n",
    "    df = df.merge(df_transcript_lengths,how='inner',on='transcript_id')\n",
    "    df['isin_5utr'] = df['transcript_position'] < df['end_5utr']\n",
    "    df['isin_cds'] = (~df['isin_5utr']) & (df['transcript_position'] < df['end_cds'])\n",
    "    df['isin_3utr'] = (~df['isin_5utr']) & (~df['isin_cds']) #& (df['tx_pos'] < df['end_tx'])\n",
    "    len_cds = df['end_cds']-df['end_5utr']\n",
    "    len_3utr = df['end_tx']-df['end_cds']\n",
    "    \n",
    "    assert (len_cds > 0).all()\n",
    "    assert (len_3utr > 0).all()\n",
    "\n",
    "    rel_len_5utr = df['isin_5utr']*(df['transcript_position']/df['end_5utr'])\n",
    "    rel_len_cds = df['isin_cds']*((df['transcript_position']-df['end_5utr'])/len_cds)\n",
    "    rel_len_3utr = df['isin_3utr']*((df['transcript_position']-df['end_cds'])/len_3utr)\n",
    "    \n",
    "    df['rel_5utr'] = rel_len_5utr\n",
    "    df['rel_cds'] = rel_len_cds\n",
    "    df['rel_3utr'] = rel_len_3utr\n",
    "    \n",
    "    rel_positions = list(rel_len_5utr[rel_len_5utr>0])\n",
    "    rel_positions += list(rel_len_cds[rel_len_cds>0] + 1)\n",
    "    rel_positions += list(rel_len_3utr[rel_len_3utr>0] + 2)\n",
    "    sns.kdeplot(rel_positions, bw='scott', shade=True, cut=True, ax=ax, label=label)\n",
    "    ax.set_xticks([1,2,3])\n",
    "    ax.set_xticklabels([])\n",
    "    ######### annotating the x axis   #########\n",
    "    ax.annotate(\"\", xy=(0, -0.05),xytext=(1,-0.05), xycoords='data',               \n",
    "                arrowprops=dict(arrowstyle='<->',facecolor='red'),\n",
    "                annotation_clip=False)\n",
    "    ax.annotate(\"5'UTR\",xy=(0.5, -0.2),xytext=(0.5,-0.2),             \n",
    "                annotation_clip=False)\n",
    "    ax.annotate(\"\", xy=(1, -0.05),xytext=(2,-0.05), xycoords='data',               \n",
    "                arrowprops=dict(arrowstyle='<->',facecolor='red'),\n",
    "                annotation_clip=False) \n",
    "    ax.annotate(\"CDS\",xy=(1.5, -0.2),xytext=(1.5,-0.2),             \n",
    "                annotation_clip=False)\n",
    "    ax.annotate(\"\", xy=(2, -0.05),xytext=(3,-0.05), xycoords='data',               \n",
    "                arrowprops=dict(arrowstyle='<->',facecolor='red'),\n",
    "                annotation_clip=False) \n",
    "    ax.annotate(\"3'UTR\",xy=(2.5, -0.2),xytext=(2.5,-0.2),             \n",
    "                annotation_clip=False)\n",
    "    ax.axvline(1, ymin=0, color='black', linestyle=\"--\")\n",
    "    ax.axvline(2, ymin=0, color='black', linestyle=\"--\")\n",
    "    ax.set_xlim([0,3])\n",
    "    ax.set_ylabel('Density')\n",
    "#     ax.legend(bbox_to_anchor=(0,1.01,1,0.1),loc='center left',ncol=len(df),mode='expand',frameon=False)\n",
    "    return ax\n",
    "\n",
    "def get_modified_positions(inference_df, threshold):\n",
    "    modified_columns = [x for x in inference_df.columns if \"probability_modified_\" in x]\n",
    "    mask = (inference_df[modified_columns] >= threshold).any(axis=1)\n",
    "    return inference_df[mask]"
   ]
  },
  {
   "cell_type": "code",
   "execution_count": 5,
   "id": "insured-soundtrack",
   "metadata": {},
   "outputs": [
    {
     "data": {
      "application/vnd.jupyter.widget-view+json": {
       "model_id": "8f5b89598fef441883f70c5d8934d520",
       "version_major": 2,
       "version_minor": 0
      },
      "text/plain": [
       "  0%|          | 0/14673 [00:00<?, ?it/s]"
      ]
     },
     "metadata": {},
     "output_type": "display_data"
    },
    {
     "name": "stderr",
     "output_type": "stream",
     "text": [
      "INFO:pyensembl.sequence_data:Loaded sequence dictionary from /data03/christopher/annotations/Homo_sapiens.GRCh38.cdna.ncrna.fa.pickle\n"
     ]
    }
   ],
   "source": [
    "tx_ref = create_tx_ref(inference[\"transcript_id\"].unique())"
   ]
  },
  {
   "cell_type": "code",
   "execution_count": 22,
   "id": "spanish-medline",
   "metadata": {},
   "outputs": [
    {
     "name": "stderr",
     "output_type": "stream",
     "text": [
      "/data03/christopher/miniconda3/envs/m6anet/lib/python3.8/site-packages/seaborn/distributions.py:1657: FutureWarning: The `bw` parameter is deprecated in favor of `bw_method` and `bw_adjust`. Using scott for `bw_method`, but please see the docs for the new parameters and update your code.\n",
      "  warnings.warn(msg, FutureWarning)\n",
      "/data03/christopher/miniconda3/envs/m6anet/lib/python3.8/site-packages/seaborn/distributions.py:1657: FutureWarning: The `bw` parameter is deprecated in favor of `bw_method` and `bw_adjust`. Using scott for `bw_method`, but please see the docs for the new parameters and update your code.\n",
      "  warnings.warn(msg, FutureWarning)\n",
      "/data03/christopher/miniconda3/envs/m6anet/lib/python3.8/site-packages/seaborn/distributions.py:1657: FutureWarning: The `bw` parameter is deprecated in favor of `bw_method` and `bw_adjust`. Using scott for `bw_method`, but please see the docs for the new parameters and update your code.\n",
      "  warnings.warn(msg, FutureWarning)\n"
     ]
    },
    {
     "data": {
      "text/plain": [
       "<matplotlib.legend.Legend at 0x7fa20153af40>"
      ]
     },
     "execution_count": 22,
     "metadata": {},
     "output_type": "execute_result"
    },
    {
     "data": {
      "image/png": "[encoded data removed]",
      "text/plain": [
       "<Figure size 720x360 with 1 Axes>"
      ]
     },
     "metadata": {
      "needs_background": "light"
     },
     "output_type": "display_data"
    }
   ],
   "source": [
    "fig, ax = plt.subplots(1, 1, figsize=(10, 5))\n",
    "plot_rel_positions(ax, get_modified_positions(inference, 0.9), tx_ref, label=\"Threshold:0.9\")\n",
    "plot_rel_positions(ax, get_modified_positions(inference, 0.5), tx_ref, label=\"Threshold:0.5\")\n",
    "plot_rel_positions(ax, get_modified_positions(inference, 0), tx_ref, label=\"Threshold:0\")\n",
    "plt.legend()\n",
    "# plot_rel_positions(ax, m6ace, tx_ref, label=\"m6ACE\")\n"
   ]
  },
  {
   "cell_type": "code",
   "execution_count": 23,
   "id": "terminal-knitting",
   "metadata": {},
   "outputs": [],
   "source": [
    "fig.savefig(\"/home/christopher/metagene_plots.svg\",format=\"svg\")\n"
   ]
  },
  {
   "cell_type": "code",
   "execution_count": null,
   "id": "killing-record",
   "metadata": {},
   "outputs": [],
   "source": [
    "df = inference.merge(df_transcript_lengths,how='inner',on='transcript_id')\n",
    "df['isin_5utr'] = df['transcript_position'] < df['end_5utr']\n",
    "df['isin_cds'] = (~df['isin_5utr']) & (df['transcript_position'] < df['end_cds'])\n",
    "df['isin_3utr'] = (~df['isin_5utr']) & (~df['isin_cds']) #& (df['tx_pos'] < df['end_tx'])\n",
    "len_cds = df['end_cds']-df['end_5utr']\n",
    "len_3utr = df['end_tx']-df['end_cds']\n",
    "\n",
    "assert (len_cds > 0).all()\n",
    "assert (len_3utr > 0).all()\n",
    "\n",
    "rel_len_5utr = df['isin_5utr']*(df['transcript_position']/df['end_5utr'])\n",
    "rel_len_cds = df['isin_cds']*((df['transcript_position']-df['end_5utr'])/len_cds)\n",
    "rel_len_3utr = df['isin_3utr']*((df['transcript_position']-df['end_cds'])/len_3utr)\n",
    "\n",
    "df['rel_5utr'] = rel_len_5utr\n",
    "df['rel_cds'] = rel_len_cds\n",
    "df['rel_3utr'] = rel_len_3utr"
   ]
  },
  {
   "cell_type": "code",
   "execution_count": 11,
   "id": "located-radio",
   "metadata": {},
   "outputs": [
    {
     "name": "stderr",
     "output_type": "stream",
     "text": [
      "/data03/christopher/miniconda3/envs/m6anet/lib/python3.8/site-packages/seaborn/distributions.py:1657: FutureWarning: The `bw` parameter is deprecated in favor of `bw_method` and `bw_adjust`. Using scott for `bw_method`, but please see the docs for the new parameters and update your code.\n",
      "  warnings.warn(msg, FutureWarning)\n"
     ]
    },
    {
     "data": {
      "image/png": "[encoded data removed]",
      "text/plain": [
       "<Figure size 720x360 with 1 Axes>"
      ]
     },
     "metadata": {
      "needs_background": "light"
     },
     "output_type": "display_data"
    }
   ],
   "source": [
    "fig, ax = plt.subplots(1, 1, figsize=(10, 5))\n",
    "_, df, rel_len_5utr, rel_len_cds, rel_len_3utr = plot_rel_positions(ax, inference[inference[\"probability_modified\"] >= 0.9], tx_ref, label=\"m6ANet_threshold:0.9\")\n"
   ]
  },
  {
   "cell_type": "code",
   "execution_count": 28,
   "id": "alone-acrylic",
   "metadata": {},
   "outputs": [
    {
     "data": {
      "text/html": [
       "<div>\n",
       "<style scoped>\n",
       "    .dataframe tbody tr th:only-of-type {\n",
       "        vertical-align: middle;\n",
       "    }\n",
       "\n",
       "    .dataframe tbody tr th {\n",
       "        vertical-align: top;\n",
       "    }\n",
       "\n",
       "    .dataframe thead th {\n",
       "        text-align: right;\n",
       "    }\n",
       "</style>\n",
       "<table border=\"1\" class=\"dataframe\">\n",
       "  <thead>\n",
       "    <tr style=\"text-align: right;\">\n",
       "      <th></th>\n",
       "      <th>transcript_id</th>\n",
       "      <th>transcript_position</th>\n",
       "      <th>n_reads</th>\n",
       "      <th>probability_modified</th>\n",
       "    </tr>\n",
       "  </thead>\n",
       "  <tbody>\n",
       "    <tr>\n",
       "      <th>0</th>\n",
       "      <td>ENST00000389680</td>\n",
       "      <td>103</td>\n",
       "      <td>264</td>\n",
       "      <td>5.415571e-01</td>\n",
       "    </tr>\n",
       "    <tr>\n",
       "      <th>1</th>\n",
       "      <td>ENST00000389680</td>\n",
       "      <td>166</td>\n",
       "      <td>861</td>\n",
       "      <td>3.537386e-07</td>\n",
       "    </tr>\n",
       "    <tr>\n",
       "      <th>2</th>\n",
       "      <td>ENST00000389680</td>\n",
       "      <td>179</td>\n",
       "      <td>111</td>\n",
       "      <td>7.585717e-15</td>\n",
       "    </tr>\n",
       "    <tr>\n",
       "      <th>3</th>\n",
       "      <td>ENST00000389680</td>\n",
       "      <td>204</td>\n",
       "      <td>896</td>\n",
       "      <td>3.120168e-10</td>\n",
       "    </tr>\n",
       "    <tr>\n",
       "      <th>4</th>\n",
       "      <td>ENST00000389680</td>\n",
       "      <td>218</td>\n",
       "      <td>861</td>\n",
       "      <td>2.514916e-13</td>\n",
       "    </tr>\n",
       "    <tr>\n",
       "      <th>...</th>\n",
       "      <td>...</td>\n",
       "      <td>...</td>\n",
       "      <td>...</td>\n",
       "      <td>...</td>\n",
       "    </tr>\n",
       "    <tr>\n",
       "      <th>259530</th>\n",
       "      <td>ENST00000457540</td>\n",
       "      <td>106</td>\n",
       "      <td>24</td>\n",
       "      <td>1.578960e-09</td>\n",
       "    </tr>\n",
       "    <tr>\n",
       "      <th>259531</th>\n",
       "      <td>ENST00000457540</td>\n",
       "      <td>132</td>\n",
       "      <td>27</td>\n",
       "      <td>1.089282e-10</td>\n",
       "    </tr>\n",
       "    <tr>\n",
       "      <th>259532</th>\n",
       "      <td>ENST00000457540</td>\n",
       "      <td>145</td>\n",
       "      <td>24</td>\n",
       "      <td>1.476037e-11</td>\n",
       "    </tr>\n",
       "    <tr>\n",
       "      <th>259533</th>\n",
       "      <td>ENST00000457540</td>\n",
       "      <td>245</td>\n",
       "      <td>23</td>\n",
       "      <td>9.999941e-01</td>\n",
       "    </tr>\n",
       "    <tr>\n",
       "      <th>259534</th>\n",
       "      <td>ENST00000457540</td>\n",
       "      <td>258</td>\n",
       "      <td>22</td>\n",
       "      <td>3.549224e-16</td>\n",
       "    </tr>\n",
       "  </tbody>\n",
       "</table>\n",
       "<p>259535 rows × 4 columns</p>\n",
       "</div>"
      ],
      "text/plain": [
       "          transcript_id  transcript_position  n_reads  probability_modified\n",
       "0       ENST00000389680                  103      264          5.415571e-01\n",
       "1       ENST00000389680                  166      861          3.537386e-07\n",
       "2       ENST00000389680                  179      111          7.585717e-15\n",
       "3       ENST00000389680                  204      896          3.120168e-10\n",
       "4       ENST00000389680                  218      861          2.514916e-13\n",
       "...                 ...                  ...      ...                   ...\n",
       "259530  ENST00000457540                  106       24          1.578960e-09\n",
       "259531  ENST00000457540                  132       27          1.089282e-10\n",
       "259532  ENST00000457540                  145       24          1.476037e-11\n",
       "259533  ENST00000457540                  245       23          9.999941e-01\n",
       "259534  ENST00000457540                  258       22          3.549224e-16\n",
       "\n",
       "[259535 rows x 4 columns]"
      ]
     },
     "execution_count": 28,
     "metadata": {},
     "output_type": "execute_result"
    }
   ],
   "source": [
    "inference"
   ]
  },
  {
   "cell_type": "code",
   "execution_count": 27,
   "id": "exposed-pregnancy",
   "metadata": {},
   "outputs": [
    {
     "data": {
      "text/plain": [
       "array(['ENST00000389680', 'ENST00000387347', 'ENST00000387460', ...,\n",
       "       'ENST00000427426', 'ENST00000414273', 'ENST00000457540'],\n",
       "      dtype=object)"
      ]
     },
     "execution_count": 27,
     "metadata": {},
     "output_type": "execute_result"
    }
   ],
   "source": [
    "inference.transcript_id.unique()"
   ]
  },
  {
   "cell_type": "code",
   "execution_count": 24,
   "id": "mathematical-seafood",
   "metadata": {},
   "outputs": [
    {
     "data": {
      "text/plain": [
       "[]"
      ]
     },
     "execution_count": 24,
     "metadata": {},
     "output_type": "execute_result"
    }
   ],
   "source": [
    "[x for x in inference[inference[\"probability_modified\"] >= 0].transcript_id.unique() if 'R' in x]"
   ]
  }
 ],
 "metadata": {
  "kernelspec": {
   "display_name": "Python [conda env:m6anet]",
   "language": "python",
   "name": "conda-env-m6anet-py"
  },
  "language_info": {
   "codemirror_mode": {
    "name": "ipython",
    "version": 3
   },
   "file_extension": ".py",
   "mimetype": "text/x-python",
   "name": "python",
   "nbconvert_exporter": "python",
   "pygments_lexer": "ipython3",
   "version": "3.8.5"
  }
 },
 "nbformat": 4,
 "nbformat_minor": 5
}
