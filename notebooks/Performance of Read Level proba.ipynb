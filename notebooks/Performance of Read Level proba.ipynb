{
 "cells": [
  {
   "cell_type": "code",
   "execution_count": 1,
   "id": "administrative-option",
   "metadata": {},
   "outputs": [],
   "source": [
    "import pandas as pd\n",
    "import numpy as np\n",
    "import os\n",
    "import toml\n",
    "import torch\n",
    "from m6anet.utils.builder import build_dataloader\n",
    "from m6anet.utils.training_utils import validate, get_accuracy, get_roc_auc, get_pr_auc\n",
    "from m6anet.model.model import MILModel\n",
    "from tqdm.notebook import tqdm"
   ]
  },
  {
   "cell_type": "code",
   "execution_count": 2,
   "id": "global-brazil",
   "metadata": {},
   "outputs": [
    {
     "name": "stdout",
     "output_type": "stream",
     "text": [
      "There are 81628 train sites\n",
      "There are 20091 test sites\n",
      "There are 25713 val sites\n"
     ]
    }
   ],
   "source": [
    "model_config = \"../m6anet/model/configs/model_configs/1_neighbor/prod_pooling_attention.toml\"\n",
    "model_weight = \"../m6anet/model/model_states/attention_pooling_pr_auc.pt\"\n",
    "training_config = \"../m6anet/model/configs/training_configs/m6a_classification_nanopolish/1_neighbor/oversampled.toml\"\n",
    "\n",
    "model_config = toml.load(model_config)\n",
    "training_config = toml.load(training_config)\n",
    "model = MILModel(model_config)\n",
    "model.load_state_dict(torch.load(model_weight))\n",
    "\n",
    "_, _, val_dl = build_dataloader(training_config, 25, verbose=True)"
   ]
  },
  {
   "cell_type": "code",
   "execution_count": 21,
   "id": "backed-lending",
   "metadata": {},
   "outputs": [
    {
     "data": {
      "application/vnd.jupyter.widget-view+json": {
       "model_id": "d660817eb4c948e288529ac067f65246",
       "version_major": 2,
       "version_minor": 0
      },
      "text/plain": [
       "  0%|          | 0/101 [00:00<?, ?it/s]"
      ]
     },
     "metadata": {},
     "output_type": "display_data"
    },
    {
     "data": {
      "application/vnd.jupyter.widget-view+json": {
       "model_id": "44dae45157bb43ffbe479f047140e1b1",
       "version_major": 2,
       "version_minor": 0
      },
      "text/plain": [
       "  0%|          | 0/101 [00:00<?, ?it/s]"
      ]
     },
     "metadata": {},
     "output_type": "display_data"
    },
    {
     "data": {
      "application/vnd.jupyter.widget-view+json": {
       "model_id": "699b3c34cd8942a9bf157d82bdf07a29",
       "version_major": 2,
       "version_minor": 0
      },
      "text/plain": [
       "  0%|          | 0/101 [00:00<?, ?it/s]"
      ]
     },
     "metadata": {},
     "output_type": "display_data"
    },
    {
     "data": {
      "application/vnd.jupyter.widget-view+json": {
       "model_id": "00456f2180314300a1b6a47d8342d48b",
       "version_major": 2,
       "version_minor": 0
      },
      "text/plain": [
       "  0%|          | 0/101 [00:00<?, ?it/s]"
      ]
     },
     "metadata": {},
     "output_type": "display_data"
    },
    {
     "data": {
      "application/vnd.jupyter.widget-view+json": {
       "model_id": "1091843a712d4819b49c1c68a5efd11e",
       "version_major": 2,
       "version_minor": 0
      },
      "text/plain": [
       "  0%|          | 0/101 [00:00<?, ?it/s]"
      ]
     },
     "metadata": {},
     "output_type": "display_data"
    }
   ],
   "source": [
    "n_iterations = 5\n",
    "model.eval()\n",
    "all_y_true = None\n",
    "all_y_pred = []\n",
    "loss_results = {}\n",
    "device = \"cuda:1\"\n",
    "model = model.to(device)\n",
    "\n",
    "with torch.no_grad():\n",
    "    for n in range(n_iterations):\n",
    "        y_true_tmp = []\n",
    "        y_pred_tmp = []\n",
    "        for batch in tqdm(val_dl, total=len(val_dl)):\n",
    "            y_true = batch.pop('y').to(device).flatten()\n",
    "            X = {key: val.to(device) for key, val in batch.items()}\n",
    "            y_pred = model(X)\n",
    "\n",
    "            if all_y_true is None:\n",
    "                y_true = y_true.detach().cpu().numpy()\n",
    "                y_true_tmp.extend(y_true)\n",
    "\n",
    "            y_pred = y_pred.detach().cpu().numpy()\n",
    "\n",
    "            if (len(y_pred.shape) == 1) or (y_pred.shape[1] == 1):\n",
    "                y_pred_tmp.extend(y_pred.flatten())\n",
    "            else:\n",
    "                y_pred_tmp.extend(y_pred[:, 1])\n",
    "        if all_y_true is None:\n",
    "            all_y_true = y_true_tmp\n",
    "        all_y_pred.append(y_pred_tmp)\n",
    "\n",
    "y_pred_avg = np.mean(all_y_pred, axis=0)\n",
    "all_y_true = np.array(all_y_true).flatten()\n",
    "\n",
    "accuracy_score = get_accuracy(all_y_true, (y_pred_avg.flatten() > 0.5) * 1)\n",
    "roc_auc = get_roc_auc(all_y_true, y_pred_avg)\n",
    "pr_auc = get_pr_auc(all_y_true, y_pred_avg)\n",
    "\n",
    "val_results = {}\n",
    "\n",
    "val_results['y_pred'] = all_y_pred\n",
    "val_results['y_true'] = all_y_true\n",
    "val_results['accuracy'] = accuracy_score\n",
    "val_results['roc_auc'] = roc_auc\n",
    "val_results['pr_auc'] = pr_auc\n",
    "\n",
    "print(accuracy_score, roc_auc, pr_auc)"
   ]
  },
  {
   "cell_type": "code",
   "execution_count": 23,
   "id": "sapphire-american",
   "metadata": {},
   "outputs": [
    {
     "data": {
      "application/vnd.jupyter.widget-view+json": {
       "model_id": "c039394d47af46b9a740507bae67f6eb",
       "version_major": 2,
       "version_minor": 0
      },
      "text/plain": [
       "  0%|          | 0/101 [00:00<?, ?it/s]"
      ]
     },
     "metadata": {},
     "output_type": "display_data"
    },
    {
     "data": {
      "application/vnd.jupyter.widget-view+json": {
       "model_id": "98a2b6ca7f904cbfae6cec39c90f4f46",
       "version_major": 2,
       "version_minor": 0
      },
      "text/plain": [
       "  0%|          | 0/101 [00:00<?, ?it/s]"
      ]
     },
     "metadata": {},
     "output_type": "display_data"
    },
    {
     "data": {
      "application/vnd.jupyter.widget-view+json": {
       "model_id": "e487c46ade3f40ddbbf03c5abbf7b449",
       "version_major": 2,
       "version_minor": 0
      },
      "text/plain": [
       "  0%|          | 0/101 [00:00<?, ?it/s]"
      ]
     },
     "metadata": {},
     "output_type": "display_data"
    },
    {
     "data": {
      "application/vnd.jupyter.widget-view+json": {
       "model_id": "b97232cab7194808bce5a1bd5082bc0a",
       "version_major": 2,
       "version_minor": 0
      },
      "text/plain": [
       "  0%|          | 0/101 [00:00<?, ?it/s]"
      ]
     },
     "metadata": {},
     "output_type": "display_data"
    },
    {
     "data": {
      "application/vnd.jupyter.widget-view+json": {
       "model_id": "48edacf8a9244693b6e26e9761b6bd1c",
       "version_major": 2,
       "version_minor": 0
      },
      "text/plain": [
       "  0%|          | 0/101 [00:00<?, ?it/s]"
      ]
     },
     "metadata": {},
     "output_type": "display_data"
    },
    {
     "name": "stdout",
     "output_type": "stream",
     "text": [
      "0.8897833780577917 0.9161007223550838 0.4447791167585492\n"
     ]
    }
   ],
   "source": [
    "n_iterations = 5\n",
    "model.eval()\n",
    "all_y_true = None\n",
    "all_y_pred = []\n",
    "loss_results = {}\n",
    "device = \"cuda:1\"\n",
    "model = model.to(device)\n",
    "\n",
    "with torch.no_grad():\n",
    "    for n in range(n_iterations):\n",
    "        y_true_tmp = []\n",
    "        y_pred_tmp = []\n",
    "        for batch in tqdm(val_dl, total=len(val_dl)):\n",
    "            y_true = batch.pop('y').to(device).flatten()\n",
    "            X = {key: val.to(device) for key, val in batch.items()}\n",
    "            y_pred = model.get_read_probability(X)\n",
    "            y_pred = 1 - torch.prod(1 - y_pred, axis=1)\n",
    "            if all_y_true is None:\n",
    "                y_true = y_true.detach().cpu().numpy()\n",
    "                y_true_tmp.extend(y_true)\n",
    "\n",
    "            y_pred = y_pred.detach().cpu().numpy()\n",
    "            \n",
    "            if (len(y_pred.shape) == 1) or (y_pred.shape[1] == 1):\n",
    "                y_pred_tmp.extend(y_pred.flatten())\n",
    "            else:\n",
    "                y_pred_tmp.extend(y_pred[:, 1])\n",
    "        if all_y_true is None:\n",
    "            all_y_true = y_true_tmp\n",
    "        all_y_pred.append(y_pred_tmp)\n",
    "\n",
    "y_pred_avg = np.mean(all_y_pred, axis=0)\n",
    "all_y_true = np.array(all_y_true).flatten()\n",
    "\n",
    "accuracy_score = get_accuracy(all_y_true, (y_pred_avg.flatten() > 0.5) * 1)\n",
    "roc_auc = get_roc_auc(all_y_true, y_pred_avg)\n",
    "pr_auc = get_pr_auc(all_y_true, y_pred_avg)\n",
    "\n",
    "val_results = {}\n",
    "\n",
    "val_results['y_pred'] = all_y_pred\n",
    "val_results['y_true'] = all_y_true\n",
    "val_results['accuracy'] = accuracy_score\n",
    "val_results['roc_auc'] = roc_auc\n",
    "val_results['pr_auc'] = pr_auc\n",
    "\n",
    "print(accuracy_score, roc_auc, pr_auc)"
   ]
  }
 ],
 "metadata": {
  "kernelspec": {
   "display_name": "Python [conda env:clr] *",
   "language": "python",
   "name": "conda-env-clr-py"
  },
  "language_info": {
   "codemirror_mode": {
    "name": "ipython",
    "version": 3
   },
   "file_extension": ".py",
   "mimetype": "text/x-python",
   "name": "python",
   "nbconvert_exporter": "python",
   "pygments_lexer": "ipython3",
   "version": "3.8.5"
  }
 },
 "nbformat": 4,
 "nbformat_minor": 5
}
